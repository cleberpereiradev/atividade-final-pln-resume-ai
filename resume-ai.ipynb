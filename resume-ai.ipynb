{
 "cells": [
  {
   "cell_type": "markdown",
   "metadata": {
    "id": "0miySvM_Z71A"
   },
   "source": [
    "# Resumidor de notícias - Resume-AI"
   ]
  },
  {
   "cell_type": "markdown",
   "metadata": {
    "id": "4CqY6ZBUZ-g2"
   },
   "source": [
    "## Descrição e Motivação do Problema\n",
    "\n",
    "#### Problema: Resumir automaticamente notícias em português de forma eficiente e precisa.\n",
    "#### Motivação: O volume de notícias cresce exponencialmente, tornando difícil acompanhar informações relevantes. Um sistema de resumo automático ajuda a poupar tempo e identificar conteúdos importantes rapidamente.\n",
    "#### Solução que visa gerar material para conteúdos curtos nas principais redes sociais atuais (TikTok, Shorts do Youtube, Stories do Instagram), rentabibilizar projeto com assinatura de sistema baseado neste código."
   ]
  },
  {
   "cell_type": "code",
   "execution_count": 53,
   "metadata": {
    "colab": {
     "base_uri": "https://localhost:8080/"
    },
    "id": "z6EzNQ498T-D",
    "outputId": "b8ea1e55-7193-41ea-be7e-459da94df198"
   },
   "outputs": [
    {
     "name": "stdout",
     "output_type": "stream",
     "text": [
      "URL: https://g1.globo.com/carros/noticia/2024/11/30/veja-a-lista-de-10-carros-que-reprovaram-no-teste-de-seguranca-do-latin-ncap.ghtml\n",
      "Resumo gerado: a Mitsubishi L200 triton foi a primeira picape a conseguir cinco estrelas conforme os ltimos protocolos de avaliaço do Latin NCAP, em vigor desde 2020 . o resultado desta semana acontece depois da verso de 2019 do veculo ter recebido nota zero .\n",
      "Avaliação ROUGE: {'rouge1': Score(precision=0.6190476190476191, recall=0.5, fmeasure=0.5531914893617021), 'rouge2': Score(precision=0.34146341463414637, recall=0.27450980392156865, fmeasure=0.30434782608695654), 'rougeL': Score(precision=0.5238095238095238, recall=0.4230769230769231, fmeasure=0.4680851063829788)}\n",
      "\n",
      "URL: https://oglobo.globo.com/mundo/noticia/2024/11/30/tres-dias-apos-cessar-fogo-israel-ataca-hezbollah-no-sul-do-libano.ghtml\n",
      "Resumo gerado: exército israelense atacou neste sábado posiçes do Hezbollah no Sul do Lbano, mantendo o pas em alerta sobre um cessar-fogo frágil, assinado há três dias. Israel também continua a atacar Gaza, sem sinais de abrandamento.\n",
      "Avaliação ROUGE: {'rouge1': Score(precision=0.5714285714285714, recall=0.4067796610169492, fmeasure=0.4752475247524753), 'rouge2': Score(precision=0.24390243902439024, recall=0.1724137931034483, fmeasure=0.20202020202020202), 'rougeL': Score(precision=0.35714285714285715, recall=0.2542372881355932, fmeasure=0.297029702970297)}\n",
      "\n",
      "URL: https://g1.globo.com/ms/mato-grosso-do-sul/noticia/2024/11/29/principal-vitima-de-venda-de-sentencas-bb-teve-prejuizos-que-ultrapassam-r200-milhoes.ghtml\n",
      "Resumo gerado: o Banco do Brasil está entre os principais prejudicados em processos com “decises aparentemente vendidas” em suposto esquema envolvendo desembargadores do Tribunal de Justiça de Mato Grosso do Sul (TJMS) o apontamento é feito pela Polcia Federal, que investiga\n",
      "Avaliação ROUGE: {'rouge1': Score(precision=0.5897435897435898, recall=0.4423076923076923, fmeasure=0.5054945054945056), 'rouge2': Score(precision=0.34210526315789475, recall=0.2549019607843137, fmeasure=0.2921348314606742), 'rougeL': Score(precision=0.46153846153846156, recall=0.34615384615384615, fmeasure=0.39560439560439564)}\n",
      "\n",
      "URL: https://ge.globo.com/futebol/times/vasco/noticia/2024/11/30/torcedor-do-vasco-pedala-do-espirito-santo-ao-rio-para-assistir-ao-jogo-contra-o-atletico-go.ghtml\n",
      "Resumo gerado: o torcedor Joo Willians fez uma das grandes nesta semana. ele pedalou de Cariacica, no Esprito Santo, até o Rio de Janeiro para assistir ao jogo contra o atlético-GO, às 21h30 deste sábado. + Paulinho volta a ser relacionado pelo Vasco após 10 me\n",
      "Avaliação ROUGE: {'rouge1': Score(precision=0.574468085106383, recall=0.5192307692307693, fmeasure=0.5454545454545454), 'rouge2': Score(precision=0.32608695652173914, recall=0.29411764705882354, fmeasure=0.30927835051546393), 'rougeL': Score(precision=0.5319148936170213, recall=0.4807692307692308, fmeasure=0.505050505050505)}\n",
      "\n",
      "URL: https://oglobo.globo.com/cultura/noticia/2024/11/30/empresario-que-pagou-r-37-milhoes-por-banana-colada-com-fita-se-oferece-para-comprar-r-150-mil-em-banca-que-vendeu-fruta-original.ghtml\n",
      "Resumo gerado: o empresário chinês de criptomoedas Justin sun anunciou um gesto grandioso na plataforma social X . planeja comprar 100 mil bananas — R$ 150 mil em frutas — do quiosque em Manhattan onde a banana original foi vendida por 0,25 dólares .\n",
      "Avaliação ROUGE: {'rouge1': Score(precision=0.6904761904761905, recall=0.5272727272727272, fmeasure=0.5979381443298969), 'rouge2': Score(precision=0.5609756097560976, recall=0.42592592592592593, fmeasure=0.4842105263157895), 'rougeL': Score(precision=0.6666666666666666, recall=0.509090909090909, fmeasure=0.5773195876288659)}\n",
      "\n"
     ]
    }
   ],
   "source": [
    "from transformers import T5Tokenizer, T5ForConditionalGeneration\n",
    "from rouge_score import rouge_scorer\n",
    "import requests\n",
    "from bs4 import BeautifulSoup\n",
    "\n",
    "# Carregar modelo maior e tokenizador\n",
    "modelo = T5ForConditionalGeneration.from_pretrained(\"t5-large\")\n",
    "tokenizador = T5Tokenizer.from_pretrained(\"t5-large\")\n",
    "\n",
    "# Função para fazer scraping do artigo\n",
    "def web_scraping_artigo(urls):\n",
    "    texto_artigo = \"\"\n",
    "    for url in urls:\n",
    "        resposta = requests.get(url)\n",
    "        soup = BeautifulSoup(resposta.text, 'html.parser')\n",
    "        paragrafos = soup.find_all('p')\n",
    "        texto_artigo += \" \".join([p.get_text() for p in paragrafos])\n",
    "    return texto_artigo\n",
    "\n",
    "def resumir_texto(texto):\n",
    "    texto_entrada = \"summarize: \" + texto\n",
    "    ids_entrada = tokenizador.encode(texto_entrada, return_tensors=\"pt\", max_length=512, truncation=True, padding=\"longest\")\n",
    "\n",
    "    ids_resumo = modelo.generate(\n",
    "        ids_entrada,\n",
    "        max_length=500,\n",
    "        num_beams=8,\n",
    "        length_penalty=5,\n",
    "        early_stopping=True\n",
    "    )\n",
    "\n",
    "    resumo = tokenizador.decode(ids_resumo[0], skip_special_tokens=True)\n",
    "    return resumo\n",
    "\n",
    "def avaliar_resumo(resumo_referencia, resumo_gerado):\n",
    "    avaliador = rouge_scorer.RougeScorer(['rouge1', 'rouge2', 'rougeL'], use_stemmer=True)\n",
    "    pontuacoes = avaliador.score(resumo_referencia, resumo_gerado)\n",
    "    return pontuacoes\n",
    "\n",
    "\n",
    "def processar_multiplas_urls(urls, resumos_referencia):\n",
    "    todos_resultados = []\n",
    "\n",
    "    for idx, url in enumerate(urls):\n",
    "        texto_artigo = web_scraping_artigo([url])\n",
    "        resumo_gerado = resumir_texto(texto_artigo)\n",
    "\n",
    "        resumo_referencia = resumos_referencia[idx]\n",
    "\n",
    "        resultados_avaliacao = avaliar_resumo(resumo_referencia, resumo_gerado)\n",
    "        todos_resultados.append({\n",
    "            \"url\": url,\n",
    "            \"resumo_gerado\": resumo_gerado,\n",
    "            \"resultados_avaliacao\": resultados_avaliacao\n",
    "        })\n",
    "\n",
    "    return todos_resultados\n",
    "\n",
    "# URLs utilizadas\n",
    "urls = [\n",
    "    'https://g1.globo.com/carros/noticia/2024/11/30/veja-a-lista-de-10-carros-que-reprovaram-no-teste-de-seguranca-do-latin-ncap.ghtml',\n",
    "    'https://oglobo.globo.com/mundo/noticia/2024/11/30/tres-dias-apos-cessar-fogo-israel-ataca-hezbollah-no-sul-do-libano.ghtml',\n",
    "    'https://g1.globo.com/ms/mato-grosso-do-sul/noticia/2024/11/29/principal-vitima-de-venda-de-sentencas-bb-teve-prejuizos-que-ultrapassam-r200-milhoes.ghtml',\n",
    "    'https://ge.globo.com/futebol/times/vasco/noticia/2024/11/30/torcedor-do-vasco-pedala-do-espirito-santo-ao-rio-para-assistir-ao-jogo-contra-o-atletico-go.ghtml',\n",
    "    'https://oglobo.globo.com/cultura/noticia/2024/11/30/empresario-que-pagou-r-37-milhoes-por-banana-colada-com-fita-se-oferece-para-comprar-r-150-mil-em-banca-que-vendeu-fruta-original.ghtml'\n",
    "]\n",
    "\n",
    "# Resumos de referência\n",
    "resumos_referencia = [\n",
    "    'A Mitsubishi L200 Triton foi a primeira picape a alcançar a nota máxima de cinco estrelas nos testes de segurança do Latin NCAP, seguindo os novos protocolos implementados desde 2020. Este resultado é uma grande melhoria, considerando que a versão de 2019 do veículo havia obtido zero estrelas.',\n",
    "    'Três dias após o cessar-fogo, Israel atacou posições do Hezbollah no sul do Líbano, mantendo a tensão elevada na região. A ofensiva ocorre enquanto o país se mantém alerta sobre a possibilidade de violação do acordo de cessar-fogo, ao mesmo tempo em que intensifica os ataques em Gaza.',\n",
    "    'O Banco do Brasil é uma das principais vítimas de um esquema de venda de decisões judiciais, que está sendo investigado pela Polícia Federal. O caso envolve desembargadores do Tribunal de Justiça de Mato Grosso do Sul e tem causado prejuízos que ultrapassam os R$ 200 milhões.',\n",
    "    'João Willians, torcedor do Vasco, fez uma grande jornada ao pedalar de Cariacica (ES) até o Rio de Janeiro para assistir ao jogo do time contra o Atlético-GO. Além disso, o jogador Paulinho foi novamente relacionado para o time após um longo período de ausência.',\n",
    "    'O empresário chinês de criptomoedas Justin Sun ficou famoso após pagar R$ 37 milhões por uma \"banana colada com fita\". Agora, ele anunciou que planeja comprar 100 mil bananas, equivalentes a R$ 150 mil, do quiosque em Manhattan onde a banana original foi vendida, gerando mais repercussão nas redes sociais.'\n",
    "]\n",
    "\n",
    "# Processar as URLs e avaliar os resumos\n",
    "resultados = processar_multiplas_urls(urls, resumos_referencia)\n",
    "\n",
    "# Exibir os resultados\n",
    "for resultado in resultados:\n",
    "    print(f\"URL: {resultado['url']}\")\n",
    "    print(f\"Resumo gerado: {resultado['resumo_gerado']}\")\n",
    "    print(f\"Avaliação ROUGE: {resultado['resultados_avaliacao']}\\n\")\n"
   ]
  },
  {
   "cell_type": "markdown",
   "metadata": {
    "id": "hXiW2IXrimgV"
   },
   "source": [
    "# Ranking Atualizado (Melhores Resumos)\n",
    "\n",
    "| **Posição** | **Resumo (URL)**                                     | **Média F1** |\n",
    "|-------------|------------------------------------------------------|--------------|\n",
    "| **1º**      | [Banana colada com fita](https://oglobo.globo.com/cultura/noticia/2024/11/30/empresario-que-pagou-r-37-milhoes-por-banana-colada-com-fita-se-oferece-para-comprar-r-150-mil-em-banca-que-vendeu-fruta-original.ghtml) | **0.553**    |\n",
    "| **2º**      | [Teste do Latin NCAP](https://g1.globo.com/carros/noticia/2024/11/30/veja-a-lista-de-10-carros-que-reprovaram-no-teste-de-seguranca-do-latin-ncap.ghtml)                                              | **0.553**    |\n",
    "| **3º**      | [Torcedor do Vasco](https://ge.globo.com/futebol/times/vasco/noticia/2024/11/30/torcedor-do-vasco-pedala-do-espirito-santo-ao-rio-para-assistir-ao-jogo-contra-o-atletico-go.ghtml)                           | **0.453**    |\n",
    "| **4º**      | [Esquema no TJMS](https://g1.globo.com/ms/mato-grosso-do-sul/noticia/2024/11/29/principal-vitima-de-venda-de-sentencas-bb-teve-prejuizos-que-ultrapassam-r200-milhoes.ghtml)                             | **0.398**    |\n",
    "| **5º**      | [Ataques de Israel](https://oglobo.globo.com/mundo/noticia/2024/11/30/tres-dias-apos-cessar-fogo-israel-ataca-hezbollah-no-sul-do-libano.ghtml)                                                       | **0.325**    |\n",
    "\n",
    "---\n",
    "\n",
    "## Análise\n",
    "\n",
    "### Melhor Resumo\n",
    "Os resumos da **\"Banana colada com fita\"** e do **\"Teste do Latin NCAP\"** empataram com a maior média F1 (**0.553**). Ambos apresentaram alta fidelidade e abrangência em relação aos textos de referência.\n",
    "\n",
    "### Pior Resumo\n",
    "O resumo dos **\"Ataques de Israel\"** apresenta a menor média F1 (**0.325**), evidenciando menor fidelidade e dificuldade em abordar a complexidade do conteúdo original."
   ]
  }
 ],
 "metadata": {
  "colab": {
   "provenance": []
  },
  "kernelspec": {
   "display_name": "Python 3",
   "name": "python3"
  },
  "language_info": {
   "name": "python",
   "version": "3.12.3"
  }
 },
 "nbformat": 4,
 "nbformat_minor": 0
}
